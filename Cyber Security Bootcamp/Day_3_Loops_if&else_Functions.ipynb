{
  "nbformat": 4,
  "nbformat_minor": 0,
  "metadata": {
    "kernelspec": {
      "display_name": "Python 3",
      "language": "python",
      "name": "python3"
    },
    "language_info": {
      "codemirror_mode": {
        "name": "ipython",
        "version": 3
      },
      "file_extension": ".py",
      "mimetype": "text/x-python",
      "name": "python",
      "nbconvert_exporter": "python",
      "pygments_lexer": "ipython3",
      "version": "3.7.3"
    },
    "colab": {
      "name": "Day_3_Loops_if&else_Functions.ipynb",
      "provenance": []
    }
  },
  "cells": [
    {
      "cell_type": "markdown",
      "metadata": {
        "id": "AWZp5zC7YULd"
      },
      "source": [
        "# Control Flow:\n",
        "#### Welcome to this lesson on Control Flow! Control flow is the sequence in which your code is run helping you in decision making.<br> Here, we'll learn about several tools in Python we can use to affect our code's control flow:\n",
        "\n",
        "- Conditional Statements\n",
        "- Boolean Expressions\n",
        "- For and While Loops\n",
        "- Break and Continue\n",
        "- Zip and Enumerate\n",
        "- List Comprehensions"
      ]
    },
    {
      "cell_type": "markdown",
      "metadata": {
        "id": "Tqjf6VOGYULf"
      },
      "source": [
        "### Comparisons operators:\n",
        "- Equal:            ==\n",
        "- Not Equal:        !=\n",
        "- Greater than:     >\n",
        "- Less than:        <\n",
        "- Greater or equal: >=\n",
        "- Less or equal:    <=\n",
        "- Object Identity:  is - Checks weather two elements are same object and memory\n"
      ]
    },
    {
      "cell_type": "code",
      "metadata": {
        "id": "8qdGvTg1YULg",
        "outputId": "72a54822-7733-4574-a26a-9534cf063544"
      },
      "source": [
        "lang = 'Java'\n",
        "\n",
        "if lang == 'Python':\n",
        "    print('Language is Python')\n",
        "elif lang == 'Java':\n",
        "    print('Language is Java')\n",
        "else:\n",
        "    print('No match')"
      ],
      "execution_count": null,
      "outputs": [
        {
          "output_type": "stream",
          "text": [
            "Language is Java\n"
          ],
          "name": "stdout"
        }
      ]
    },
    {
      "cell_type": "code",
      "metadata": {
        "id": "VUeBJv7jYULg",
        "outputId": "67b1e436-3bea-483e-f480-0c39ab3c30d7"
      },
      "source": [
        "#and,or & not:\n",
        "\n",
        "user = 'Admin'\n",
        "logged_in = False\n",
        "\n",
        "if user == 'Admin' and logged_in:\n",
        "    print('Admin page')\n",
        "else:\n",
        "    print('Bad creds')"
      ],
      "execution_count": null,
      "outputs": [
        {
          "output_type": "stream",
          "text": [
            "Bad creds\n"
          ],
          "name": "stdout"
        }
      ]
    },
    {
      "cell_type": "code",
      "metadata": {
        "id": "rjC4nznlYULh",
        "outputId": "d1d429ac-594c-4269-abe7-7a37e3df0bf3"
      },
      "source": [
        "user = 'Admin'\n",
        "logged_in = True\n",
        "\n",
        "if user == 'Admin' or logged_in:\n",
        "    print('Admin page')\n",
        "else:\n",
        "    print('Bad creds')"
      ],
      "execution_count": null,
      "outputs": [
        {
          "output_type": "stream",
          "text": [
            "Admin page\n"
          ],
          "name": "stdout"
        }
      ]
    },
    {
      "cell_type": "code",
      "metadata": {
        "id": "oPqVKz2uYULh",
        "outputId": "c6f30b4a-eb82-4dad-ac04-f604a0cf85e3"
      },
      "source": [
        "a = [1,2,3]\n",
        "b = [1,2,3]\n",
        "\n",
        "print(a == b)"
      ],
      "execution_count": null,
      "outputs": [
        {
          "output_type": "stream",
          "text": [
            "True\n"
          ],
          "name": "stdout"
        }
      ]
    },
    {
      "cell_type": "code",
      "metadata": {
        "id": "u6L1PAuSYULh",
        "outputId": "88aa46c5-c774-4e97-b56e-f39231292a0b"
      },
      "source": [
        "a = [1,2,3]\n",
        "b = [1,2,3]\n",
        "\n",
        "print(id(a))\n",
        "print(id(b))\n",
        "print(id(a)==id(b))\n",
        "print(a is b)"
      ],
      "execution_count": null,
      "outputs": [
        {
          "output_type": "stream",
          "text": [
            "2466803111560\n",
            "2466803109960\n",
            "False\n",
            "False\n"
          ],
          "name": "stdout"
        }
      ]
    },
    {
      "cell_type": "markdown",
      "metadata": {
        "id": "1RoXg2CXYULi"
      },
      "source": [
        "#### False values: <br>\n",
        "False<br>\n",
        "None<br>\n",
        "Numerical Zero<br>\n",
        "Any empty sequence. Eg: '', (), []<br>\n",
        "Any empty mapping. Eg: {}<br>\n"
      ]
    },
    {
      "cell_type": "code",
      "metadata": {
        "id": "mDMLrGXKYULi",
        "outputId": "41f270e8-8c51-44cb-e0d8-ad46761936f6"
      },
      "source": [
        "condition = 2\n",
        "\n",
        "if condition:\n",
        "    print('Evaluated to True')\n",
        "else:\n",
        "    print('Evaluated to False')"
      ],
      "execution_count": null,
      "outputs": [
        {
          "output_type": "stream",
          "text": [
            "Evaluated to True\n"
          ],
          "name": "stdout"
        }
      ]
    },
    {
      "cell_type": "markdown",
      "metadata": {
        "id": "lPJu89HlYULi"
      },
      "source": [
        "### Loops & Iterations - for/while loops:"
      ]
    },
    {
      "cell_type": "code",
      "metadata": {
        "id": "TybIRXiUYULj"
      },
      "source": [
        "nums = [1,2,3,4,5]"
      ],
      "execution_count": null,
      "outputs": []
    },
    {
      "cell_type": "code",
      "metadata": {
        "id": "cZ_66uX8YULj",
        "outputId": "5c491817-6f44-4269-bc5d-2b7c87c81450"
      },
      "source": [
        "for num in nums:\n",
        "    print(num)\n",
        "\n",
        "#Iterates and returns each item using loop"
      ],
      "execution_count": null,
      "outputs": [
        {
          "output_type": "stream",
          "text": [
            "1\n",
            "2\n",
            "3\n",
            "4\n",
            "5\n"
          ],
          "name": "stdout"
        }
      ]
    },
    {
      "cell_type": "code",
      "metadata": {
        "id": "7V7Is3iXYULj",
        "outputId": "4e45e526-4fa2-4f20-8e16-8b0773af2afc"
      },
      "source": [
        "for num in nums:\n",
        "    if num == 3:\n",
        "        print('Found!')\n",
        "        break\n",
        "    print(num)\n",
        "    \n",
        "#Breaks out of loop if the item is found"
      ],
      "execution_count": null,
      "outputs": [
        {
          "output_type": "stream",
          "text": [
            "1\n",
            "2\n",
            "Found!\n"
          ],
          "name": "stdout"
        }
      ]
    },
    {
      "cell_type": "code",
      "metadata": {
        "id": "uk_EcaZiYULj"
      },
      "source": [
        ""
      ],
      "execution_count": null,
      "outputs": []
    },
    {
      "cell_type": "code",
      "metadata": {
        "id": "OZivxCLPYULj",
        "outputId": "3bb55e11-26a5-4900-8c6f-b7b6dd8e584f"
      },
      "source": [
        "for num in nums:\n",
        "    if num == 3:\n",
        "        print('Found!')\n",
        "        continue\n",
        "    print(num)\n",
        "    \n",
        "#Breaks out of loop if the item is found"
      ],
      "execution_count": null,
      "outputs": [
        {
          "output_type": "stream",
          "text": [
            "1\n",
            "2\n",
            "Found!\n",
            "4\n",
            "5\n"
          ],
          "name": "stdout"
        }
      ]
    },
    {
      "cell_type": "code",
      "metadata": {
        "id": "MinyMXOwYULk",
        "outputId": "7a80c7b9-87a0-4074-94c7-8899722dc558"
      },
      "source": [
        "for num in nums:\n",
        "    for letter in 'abc':\n",
        "        print(num,letter)\n",
        "\n",
        "#Nested loop - Loop within a loop"
      ],
      "execution_count": null,
      "outputs": [
        {
          "output_type": "stream",
          "text": [
            "1 a\n",
            "1 b\n",
            "1 c\n",
            "2 a\n",
            "2 b\n",
            "2 c\n",
            "3 a\n",
            "3 b\n",
            "3 c\n",
            "4 a\n",
            "4 b\n",
            "4 c\n",
            "5 a\n",
            "5 b\n",
            "5 c\n"
          ],
          "name": "stdout"
        }
      ]
    },
    {
      "cell_type": "code",
      "metadata": {
        "id": "iG5GbbRyYULk",
        "outputId": "28bc13cb-f065-45af-8cd2-a2e1c10e50c1"
      },
      "source": [
        "for i in range(10):\n",
        "    print(i)\n",
        "\n",
        "#prints 0-9"
      ],
      "execution_count": null,
      "outputs": [
        {
          "output_type": "stream",
          "text": [
            "0\n",
            "1\n",
            "2\n",
            "3\n",
            "4\n",
            "5\n",
            "6\n",
            "7\n",
            "8\n",
            "9\n"
          ],
          "name": "stdout"
        }
      ]
    },
    {
      "cell_type": "code",
      "metadata": {
        "id": "X594_1LOYULk",
        "outputId": "6969780d-c15c-4e27-877b-d67bc32a80a7"
      },
      "source": [
        "for i in range(1,11):\n",
        "    print(i)\n",
        "#prints 1-10, taking one step at a moment"
      ],
      "execution_count": null,
      "outputs": [
        {
          "output_type": "stream",
          "text": [
            "1\n",
            "2\n",
            "3\n",
            "4\n",
            "5\n",
            "6\n",
            "7\n",
            "8\n",
            "9\n",
            "10\n"
          ],
          "name": "stdout"
        }
      ]
    },
    {
      "cell_type": "code",
      "metadata": {
        "id": "aayceVkZYULk",
        "outputId": "69a7af21-e60c-4ca4-d0d7-729dc6d52e3f"
      },
      "source": [
        "for i in range(1,21,2):\n",
        "    print(i)\n",
        "#prints 1-19, skipping a value after each iteration"
      ],
      "execution_count": null,
      "outputs": [
        {
          "output_type": "stream",
          "text": [
            "1\n",
            "3\n",
            "5\n",
            "7\n",
            "9\n",
            "11\n",
            "13\n",
            "15\n",
            "17\n",
            "19\n"
          ],
          "name": "stdout"
        }
      ]
    },
    {
      "cell_type": "code",
      "metadata": {
        "id": "xTFp-lvaYULl",
        "outputId": "45f81bd7-4e13-43c3-d284-581e91ba5e11"
      },
      "source": [
        "### While loop:\n",
        "x = 0\n",
        "\n",
        "while x < 10:\n",
        "    print(x)\n",
        "    x += 1\n",
        "\n",
        "'''    \n",
        "while \n",
        "    \n"
      ],
      "execution_count": null,
      "outputs": [
        {
          "output_type": "stream",
          "text": [
            "0\n",
            "1\n",
            "2\n",
            "3\n",
            "4\n",
            "5\n",
            "6\n",
            "7\n",
            "8\n",
            "9\n"
          ],
          "name": "stdout"
        }
      ]
    },
    {
      "cell_type": "markdown",
      "metadata": {
        "id": "zKgJrlRKYULl"
      },
      "source": [
        "# Functions:\n"
      ]
    },
    {
      "cell_type": "code",
      "metadata": {
        "id": "ZS-b3P-1YULl"
      },
      "source": [
        "def hello_func():\n",
        "    pass\n",
        "\n",
        "#pass keywords avoid errors if we want to leave that function for a while \n",
        "#Paranthesis () is where we pass the parameters"
      ],
      "execution_count": null,
      "outputs": []
    },
    {
      "cell_type": "code",
      "metadata": {
        "id": "eNPvUvR6YULl"
      },
      "source": [
        "hello_func() # to run the function"
      ],
      "execution_count": null,
      "outputs": []
    },
    {
      "cell_type": "code",
      "metadata": {
        "id": "bf3hUydpYULl",
        "outputId": "25f9e800-4d3a-4747-8f19-af090ca1332b"
      },
      "source": [
        "def hello_func():\n",
        "    print('Hello Function!')\n",
        "hello_func()"
      ],
      "execution_count": null,
      "outputs": [
        {
          "output_type": "stream",
          "text": [
            "Hello Function!\n"
          ],
          "name": "stdout"
        }
      ]
    },
    {
      "cell_type": "markdown",
      "metadata": {
        "id": "1SFUx_K6YULl"
      },
      "source": [
        "#### Functions allows to reuse the code just like variable. \n",
        "#### Works as a machine, we give input to get the desirable output"
      ]
    },
    {
      "cell_type": "code",
      "metadata": {
        "id": "FBmqtzceYULm",
        "outputId": "daad4c9c-405f-497c-d314-64fa0d5a7c7c"
      },
      "source": [
        "def hello_func():\n",
        "    return 'Hello Function!'\n",
        "hello_func()\n",
        "\n",
        "#When we executes the function, then it's equivalent to the return value\n",
        "#As the return value is a string, then we can use string methods with the function\n",
        "\n",
        "print(hello_func().upper())"
      ],
      "execution_count": null,
      "outputs": [
        {
          "output_type": "stream",
          "text": [
            "HELLO FUNCTION!\n"
          ],
          "name": "stdout"
        }
      ]
    },
    {
      "cell_type": "code",
      "metadata": {
        "id": "QzQzAn5WYULm",
        "outputId": "3587c5c8-c325-4535-e9de-0bf17e0186b9"
      },
      "source": [
        "# Passing an argument/parameter to the function.\n",
        "\n",
        "def hello_func(greeting):\n",
        "    return '{} Function!'.format(greeting)\n",
        "print(hello_func('Hi'))\n",
        "\n",
        "# greeting variable doesn't affect any variable outside the function. It's scope is local to this function\n",
        "# You can define a variable named greeting, outside the function."
      ],
      "execution_count": null,
      "outputs": [
        {
          "output_type": "stream",
          "text": [
            "Hi Function!\n"
          ],
          "name": "stdout"
        }
      ]
    },
    {
      "cell_type": "code",
      "metadata": {
        "id": "03Sv5J-OYULm",
        "outputId": "f1a063c5-d269-4f79-e9f7-b169e7ff5e1c"
      },
      "source": [
        "#Passing two parameters and default values\n",
        "\n",
        "def hello_func(greeting,name='You'):\n",
        "    return '{}, {}!'.format(greeting, name)\n",
        "\n",
        "print(hello_func('Hi','harsh'))\n",
        "\n",
        "#You is default value for name parameter"
      ],
      "execution_count": null,
      "outputs": [
        {
          "output_type": "stream",
          "text": [
            "Hi, harsh!\n"
          ],
          "name": "stdout"
        }
      ]
    },
    {
      "cell_type": "code",
      "metadata": {
        "id": "DONFHUzMYULm",
        "outputId": "04beec7c-89d0-48df-dfce-023d71b2bf66"
      },
      "source": [
        "# Use it when you aren't sure about the numbers of arguments(args) and keyword arguments (kwargs)\n",
        "# args - arguments\n",
        "# kwargs - Keyword arguments\n",
        "\n",
        "def student_info(*args, **kwargs):\n",
        "    print(args)\n",
        "    print(kwargs)\n",
        "\n",
        "print(student_info('Math', 'Art', name = 'harsh', age = '21'))"
      ],
      "execution_count": null,
      "outputs": [
        {
          "output_type": "stream",
          "text": [
            "('Math', 'Art')\n",
            "{'name': 'harsh', 'age': '21'}\n",
            "None\n"
          ],
          "name": "stdout"
        }
      ]
    },
    {
      "cell_type": "code",
      "metadata": {
        "id": "jd4X8Xy_YULn",
        "outputId": "c3c83383-5b94-4259-a919-95399e0bc98b"
      },
      "source": [
        "# Use it when you aren't sure about the numbers of arguments(args) and keyword arguments (kwargs)\n",
        "# args - arguments\n",
        "# kwargs - Keyword arguments\n",
        "\n",
        "def student_info(*args, **kwargs):\n",
        "    print(args)\n",
        "    print(kwargs)\n",
        "\n",
        "courses = ['Math','Art']\n",
        "info = {'name':'harsh', 'age':'21'}\n",
        "\n",
        "print(student_info(courses,info))"
      ],
      "execution_count": null,
      "outputs": [
        {
          "output_type": "stream",
          "text": [
            "(['Math', 'Art'], {'name': 'harsh', 'age': '21'})\n",
            "{}\n",
            "None\n"
          ],
          "name": "stdout"
        }
      ]
    },
    {
      "cell_type": "markdown",
      "metadata": {
        "id": "xdGPDZMIYULn"
      },
      "source": [
        "#### * & ** is added to differentiate b/w arguments and keyword arguments"
      ]
    },
    {
      "cell_type": "markdown",
      "metadata": {
        "id": "ZLHvcyoPYULn"
      },
      "source": [
        "### Let's put everything together and create a program to check if a year is leap or not "
      ]
    },
    {
      "cell_type": "code",
      "metadata": {
        "id": "72a_jPvSYULn"
      },
      "source": [
        "month_days = [0, 31, 28, 31 , 30 , \n",
        "             31 , 30, 31, 31 , 30, \n",
        "             31, 30, 31]\n",
        "\n",
        "#Number of days per month. First value placeholder for indexing purpose"
      ],
      "execution_count": null,
      "outputs": []
    },
    {
      "cell_type": "code",
      "metadata": {
        "id": "SWy0eUwwYULn"
      },
      "source": [
        "def is_leap(year):\n",
        "    return year % 4 == 0 and (year % 100 == 0 or year % 400 == 0)\n",
        "\n",
        "#Return True for leap years & False for non-leap year. "
      ],
      "execution_count": null,
      "outputs": []
    },
    {
      "cell_type": "code",
      "metadata": {
        "id": "GIuCNVLuYULo",
        "outputId": "c4f36190-702e-4975-bd57-46ad4f8705bd"
      },
      "source": [
        "# Return number of days in that month in that year.\n",
        "\n",
        "def days_in_month(year,month):\n",
        "    if not 1 <= month <= 12:\n",
        "        return 'Invalid Month'\n",
        "    if month == 2 and is_leap(year):\n",
        "        return 29\n",
        "    \n",
        "    return month_days[month]\n",
        "\n",
        "print(days_in_month(2020, 2))"
      ],
      "execution_count": null,
      "outputs": [
        {
          "output_type": "stream",
          "text": [
            "28\n"
          ],
          "name": "stdout"
        }
      ]
    },
    {
      "cell_type": "code",
      "metadata": {
        "id": "_WcGIhkzYULo"
      },
      "source": [
        ""
      ],
      "execution_count": null,
      "outputs": []
    }
  ]
}